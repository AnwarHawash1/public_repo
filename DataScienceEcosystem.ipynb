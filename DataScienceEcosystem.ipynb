{
 "cells": [
  {
   "cell_type": "markdown",
   "id": "66ec476d-2d77-4c7d-88f8-18cfa8cedece",
   "metadata": {},
   "source": [
    "# Data Science Tools and Ecosystem"
   ]
  },
  {
   "cell_type": "markdown",
   "id": "d49ead60-0f0f-47b7-9a1f-cec9ba7e14c1",
   "metadata": {},
   "source": [
    "In this notebook, we present a comprehensive overview of the tools and ecosystem in the field of data science, providing insights into the diverse set of resources that empower data scientists to analyze, visualize, and derive meaningful insights from complex datasets."
   ]
  },
  {
   "cell_type": "markdown",
   "id": "9ac7127b-7d85-48a7-a4d1-457344033509",
   "metadata": {},
   "source": [
    "## Some of the popular languages that Data Scientists use are:\n",
    "1. Python\n",
    "2. R\n",
    "3. C++\n",
    "4. SQL\n",
    "5. Java\n"
   ]
  },
  {
   "cell_type": "markdown",
   "id": "e20db4c8-97ed-4182-ab45-b646ba7f17c6",
   "metadata": {},
   "source": [
    "### Some of the commonly used libraries used by Data Scientists include:<br>\n",
    "1- Pandas, Matplotlib , TensorFlow and PyTorch     --->in python<br>\n",
    "2- dpltr , ggplot , stringr & caret               ---> in R<br>\n",
    "3- MLpack                                        ---> in C++<br>"
   ]
  },
  {
   "cell_type": "markdown",
   "id": "cd1eecd6-8e1e-4983-83c5-2b79ff9ea978",
   "metadata": {},
   "source": [
    "| Data Science Tools    |\n",
    "|-----------------------|\n",
    "| Jupyter Notebooks     |\n",
    "| RStudio               |\n",
    "| VS Code (Visual Studio Code) |"
   ]
  },
  {
   "cell_type": "markdown",
   "id": "6e4bc9f1-cbba-4a06-9a24-e1af0eb72f76",
   "metadata": {},
   "source": [
    "### Below are a few examples of evaluating arithmetic expressions in Python\n"
   ]
  },
  {
   "cell_type": "code",
   "execution_count": 3,
   "id": "efc5052f-7860-4a30-9578-a8b7c2a25669",
   "metadata": {},
   "outputs": [
    {
     "name": "stdout",
     "output_type": "stream",
     "text": [
      "17\n"
     ]
    }
   ],
   "source": [
    "#This a simple arithmetic expression to mutiply then add integersabs\n",
    "print(3*4+5)"
   ]
  },
  {
   "cell_type": "code",
   "execution_count": 4,
   "id": "afd53e3a-51af-4e01-9cfd-1210374973c0",
   "metadata": {},
   "outputs": [
    {
     "data": {
      "text/plain": [
       "3.3333333333333335"
      ]
     },
     "execution_count": 4,
     "metadata": {},
     "output_type": "execute_result"
    }
   ],
   "source": [
    "# This will convert 200 minutes to hours by dividing by 60.\n",
    "minutes = 200\n",
    "hours = minutes / 60\n",
    "hours"
   ]
  },
  {
   "cell_type": "markdown",
   "id": "bf5afe99-546f-4661-9fa8-254b3e884661",
   "metadata": {},
   "source": [
    "**Objectives:**\n",
    "\n",
    "- List popular languages for Data Science.\n",
    "- Explore common open-source tools used in data science development environments.\n",
    "- Understand the process of evaluating arithmetic expressions in Python.\n",
    "- Demonstrate converting minutes to hours in Python.\n",
    "- Introduce key takeaways from the course on data science tools and ecosystem.\n"
   ]
  },
  {
   "cell_type": "markdown",
   "id": "b97f58fa-bde5-4af9-b40d-42fca16763a0",
   "metadata": {},
   "source": [
    "## Author\n",
    "\n",
    "Anwar Khamis Hawash\n"
   ]
  },
  {
   "cell_type": "code",
   "execution_count": null,
   "id": "0c2ea25b-d62a-48e3-9b3b-502a69890e8c",
   "metadata": {},
   "outputs": [],
   "source": []
  }
 ],
 "metadata": {
  "kernelspec": {
   "display_name": "Python 3 (ipykernel)",
   "language": "python",
   "name": "python3"
  },
  "language_info": {
   "codemirror_mode": {
    "name": "ipython",
    "version": 3
   },
   "file_extension": ".py",
   "mimetype": "text/x-python",
   "name": "python",
   "nbconvert_exporter": "python",
   "pygments_lexer": "ipython3",
   "version": "3.10.12"
  }
 },
 "nbformat": 4,
 "nbformat_minor": 5
}
